{
 "cells": [
  {
   "metadata": {},
   "cell_type": "markdown",
   "source": [
    "# Policy search\n",
    "Policy search RL algorithm for playing the game of Space Invaders."
   ],
   "id": "fcf4b5657b44c58f"
  },
  {
   "metadata": {
    "ExecuteTime": {
     "end_time": "2025-01-26T20:09:39.207613Z",
     "start_time": "2025-01-26T20:09:39.205064Z"
    }
   },
   "cell_type": "code",
   "source": [
    "import random\n",
    "\n",
    "import ale_py\n",
    "import gymnasium as gym\n",
    "\n",
    "gym.register_envs(ale_py)  # needed to run atari games"
   ],
   "id": "30e26dd39c8a9006",
   "outputs": [],
   "execution_count": 83
  },
  {
   "metadata": {
    "ExecuteTime": {
     "end_time": "2025-01-26T20:09:39.257758Z",
     "start_time": "2025-01-26T20:09:39.255468Z"
    }
   },
   "cell_type": "code",
   "source": [
    "import numpy as np\n",
    "import torch\n",
    "import torch.nn as nn\n",
    "import torch.optim as optim\n",
    "from torch.distributions.categorical import Categorical\n",
    "import matplotlib.pyplot as plt\n",
    "import pandas as pd\n",
    "import seaborn as sns"
   ],
   "id": "a5d95091f713a05a",
   "outputs": [],
   "execution_count": 84
  },
  {
   "metadata": {
    "ExecuteTime": {
     "end_time": "2025-01-26T20:09:39.307879Z",
     "start_time": "2025-01-26T20:09:39.304893Z"
    }
   },
   "cell_type": "code",
   "source": [
    "def preprocess_frame(frame):\n",
    "    frame = frame[34:194]\n",
    "    frame = frame[::2, ::2, 0]\n",
    "    frame[frame == 144] = 0\n",
    "    frame[frame == 109] = 0\n",
    "    frame[frame != 0] = 1\n",
    "    return np.expand_dims(frame.astype(np.float32), axis=0)"
   ],
   "id": "fc4b747ab227f820",
   "outputs": [],
   "execution_count": 85
  },
  {
   "metadata": {
    "ExecuteTime": {
     "end_time": "2025-01-26T20:09:39.358313Z",
     "start_time": "2025-01-26T20:09:39.354841Z"
    }
   },
   "cell_type": "code",
   "source": [
    "class PolicyNetwork(nn.Module):\n",
    "    def __init__(self, action_space):\n",
    "        super(PolicyNetwork, self).__init__()\n",
    "        self.conv = nn.Sequential(\n",
    "            nn.Conv2d(1, 16, kernel_size=8, stride=4),\n",
    "            nn.ReLU(),\n",
    "            nn.Conv2d(16, 32, kernel_size=4, stride=2),\n",
    "            nn.ReLU(),\n",
    "        )\n",
    "        self.fc = nn.Sequential(\n",
    "            nn.Flatten(),\n",
    "            nn.Linear(2048, 256),\n",
    "            nn.ReLU(),\n",
    "            nn.Linear(256, action_space)\n",
    "        )\n",
    "\n",
    "    def forward(self, x):\n",
    "        x = self.conv(x)\n",
    "        x = self.fc(x)\n",
    "        return nn.Softmax(dim=-1)(x)\n",
    "\n",
    "\n",
    "def compute_discounted_rewards(rewards, gamma):\n",
    "    discounted_rewards = np.zeros_like(rewards)\n",
    "    cumulative = 0\n",
    "    for t in reversed(range(len(rewards))):\n",
    "        cumulative = rewards[t] + gamma * cumulative\n",
    "        discounted_rewards[t] = cumulative\n",
    "    return discounted_rewards"
   ],
   "id": "248c0efb10505884",
   "outputs": [],
   "execution_count": 86
  },
  {
   "metadata": {
    "ExecuteTime": {
     "end_time": "2025-01-26T20:09:39.405876Z",
     "start_time": "2025-01-26T20:09:39.401309Z"
    }
   },
   "cell_type": "code",
   "source": [
    "def play_one_step(env, state, model):\n",
    "    state = torch.tensor(state, dtype=torch.float32, device=device).unsqueeze(0)\n",
    "    action_probs = model(state)\n",
    "    dist = Categorical(action_probs)\n",
    "    action = dist.sample()\n",
    "    log_prob = dist.log_prob(action)\n",
    "\n",
    "    next_state, reward, done, truncated, _ = env.step(action.item())\n",
    "    next_state = preprocess_frame(next_state)\n",
    "    return next_state, reward, done, truncated, log_prob\n",
    "\n",
    "\n",
    "def play_multiple_episodes(env, n_episodes, n_max_steps, model, seed):\n",
    "    all_rewards = []\n",
    "    all_log_probs = []\n",
    "\n",
    "    for _ in range(n_episodes):\n",
    "        current_rewards = []\n",
    "        current_log_probs = []\n",
    "        state, _ = env.reset(seed=seed)\n",
    "        state = preprocess_frame(state)\n",
    "\n",
    "        for _ in range(n_max_steps):\n",
    "            state, reward, done, truncated, log_prob = play_one_step(env, state, model)\n",
    "            current_rewards.append(reward)\n",
    "            current_log_probs.append(log_prob)\n",
    "            if done or truncated:\n",
    "                break\n",
    "\n",
    "        all_rewards.append(current_rewards)\n",
    "        all_log_probs.append(current_log_probs)\n",
    "\n",
    "    return all_rewards, all_log_probs\n",
    "\n",
    "\n",
    "def discount_rewards(rewards, discount_factor):\n",
    "    discounted = np.zeros_like(rewards, dtype=np.float32)\n",
    "    cumulative = 0\n",
    "    for t in reversed(range(len(rewards))):\n",
    "        cumulative = rewards[t] + discount_factor * cumulative\n",
    "        discounted[t] = cumulative\n",
    "    return discounted\n",
    "\n",
    "\n",
    "def discount_and_normalize_rewards(all_rewards, discount_factor):\n",
    "    all_discounted_rewards = [discount_rewards(rewards, discount_factor) for rewards in all_rewards]\n",
    "    flat_rewards = np.concatenate(all_discounted_rewards)\n",
    "    reward_mean = flat_rewards.mean()\n",
    "    reward_std = flat_rewards.std()\n",
    "    return [(discounted_rewards - reward_mean) / (reward_std + 1e-8) for discounted_rewards in all_discounted_rewards]"
   ],
   "id": "b0a7a99d0c1aba18",
   "outputs": [],
   "execution_count": 87
  },
  {
   "metadata": {
    "ExecuteTime": {
     "end_time": "2025-01-26T20:09:39.532768Z",
     "start_time": "2025-01-26T20:09:39.449675Z"
    }
   },
   "cell_type": "code",
   "source": [
    "env = gym.make('ALE/SpaceInvaders-v5', render_mode=None)\n",
    "# env = gym.wrappers.RecordEpisodeStatistics(env, buffer_length=50) ??? nie dziala dziadostwo\n",
    "device = torch.device(\"cuda\" if torch.cuda.is_available() else \"cpu\")\n",
    "print(f\"Using device: {device}\")"
   ],
   "id": "7594ecac32f94791",
   "outputs": [
    {
     "name": "stdout",
     "output_type": "stream",
     "text": [
      "Using device: cuda\n"
     ]
    }
   ],
   "execution_count": 88
  },
  {
   "metadata": {
    "ExecuteTime": {
     "end_time": "2025-01-26T20:09:39.568958Z",
     "start_time": "2025-01-26T20:09:39.567172Z"
    }
   },
   "cell_type": "code",
   "source": [
    "n_iterations = 150\n",
    "n_episodes_per_update = 10\n",
    "n_max_steps = 200\n",
    "discount_factor = 0.95  # gamma\n",
    "learning_rate = 1e-3  # alfa"
   ],
   "id": "968b4ff6eb0207e",
   "outputs": [],
   "execution_count": 89
  },
  {
   "metadata": {
    "ExecuteTime": {
     "end_time": "2025-01-26T20:59:43.184210Z",
     "start_time": "2025-01-26T20:09:39.609754Z"
    }
   },
   "cell_type": "code",
   "source": [
    "seed_rewards = []\n",
    "\n",
    "# Train the model for each seed\n",
    "for seed in [1, 2, 3, 5, 8]:\n",
    "    torch.manual_seed(seed)\n",
    "    random.seed(seed)\n",
    "    np.random.seed(seed)\n",
    "    episode_rewards = []\n",
    "\n",
    "    policy = PolicyNetwork(env.action_space.n).to(device)\n",
    "    optimizer = optim.Adam(policy.parameters(), lr=learning_rate)\n",
    "\n",
    "    for iteration in range(n_iterations):\n",
    "        all_rewards, all_log_probs = play_multiple_episodes(\n",
    "            env, n_episodes_per_update, n_max_steps, policy, seed\n",
    "        )\n",
    "\n",
    "        all_final_rewards = discount_and_normalize_rewards(all_rewards, discount_factor)\n",
    "\n",
    "        policy_loss = 0\n",
    "        for log_probs, rewards in zip(all_log_probs, all_final_rewards):\n",
    "            log_probs_tensor = torch.stack(log_probs)\n",
    "            rewards_tensor = torch.tensor(rewards, dtype=torch.float32, device=device)\n",
    "            policy_loss += -torch.sum(log_probs_tensor * rewards_tensor)\n",
    "\n",
    "        policy_loss /= n_episodes_per_update\n",
    "\n",
    "        episode_rewards.append(np.mean([np.sum(rewards) for rewards in all_rewards]))\n",
    "        if iteration % 10 == 0:\n",
    "            print(f\"Seed: {seed}, Iteration: {iteration}, Reward: {episode_rewards[-1]}\")\n",
    "\n",
    "        optimizer.zero_grad()\n",
    "        policy_loss.backward()\n",
    "        optimizer.step()\n",
    "\n",
    "    seed_rewards.append(episode_rewards)\n",
    "\n",
    "env.close()"
   ],
   "id": "136ccc04e61b1ffb",
   "outputs": [
    {
     "name": "stdout",
     "output_type": "stream",
     "text": [
      "Seed: 1, Iteration: 0, Reward: 43.5\n",
      "Seed: 1, Iteration: 10, Reward: 38.0\n",
      "Seed: 1, Iteration: 20, Reward: 53.0\n",
      "Seed: 1, Iteration: 30, Reward: 56.0\n",
      "Seed: 1, Iteration: 40, Reward: 44.5\n",
      "Seed: 1, Iteration: 50, Reward: 77.5\n",
      "Seed: 1, Iteration: 60, Reward: 61.5\n",
      "Seed: 1, Iteration: 70, Reward: 82.5\n",
      "Seed: 1, Iteration: 80, Reward: 89.0\n",
      "Seed: 1, Iteration: 90, Reward: 94.5\n",
      "Seed: 1, Iteration: 100, Reward: 106.5\n",
      "Seed: 1, Iteration: 110, Reward: 98.5\n",
      "Seed: 1, Iteration: 120, Reward: 90.5\n",
      "Seed: 1, Iteration: 130, Reward: 105.0\n",
      "Seed: 1, Iteration: 140, Reward: 105.0\n",
      "Seed: 2, Iteration: 0, Reward: 54.0\n",
      "Seed: 2, Iteration: 10, Reward: 68.5\n",
      "Seed: 2, Iteration: 20, Reward: 106.0\n",
      "Seed: 2, Iteration: 30, Reward: 105.0\n",
      "Seed: 2, Iteration: 40, Reward: 105.0\n",
      "Seed: 2, Iteration: 50, Reward: 105.0\n",
      "Seed: 2, Iteration: 60, Reward: 105.0\n",
      "Seed: 2, Iteration: 70, Reward: 105.0\n",
      "Seed: 2, Iteration: 80, Reward: 105.0\n",
      "Seed: 2, Iteration: 90, Reward: 105.0\n",
      "Seed: 2, Iteration: 100, Reward: 105.0\n",
      "Seed: 2, Iteration: 110, Reward: 105.0\n",
      "Seed: 2, Iteration: 120, Reward: 105.0\n",
      "Seed: 2, Iteration: 130, Reward: 105.0\n",
      "Seed: 2, Iteration: 140, Reward: 105.0\n",
      "Seed: 3, Iteration: 0, Reward: 58.0\n",
      "Seed: 3, Iteration: 10, Reward: 30.0\n",
      "Seed: 3, Iteration: 20, Reward: 85.0\n",
      "Seed: 3, Iteration: 30, Reward: 105.0\n",
      "Seed: 3, Iteration: 40, Reward: 105.0\n",
      "Seed: 3, Iteration: 50, Reward: 105.0\n",
      "Seed: 3, Iteration: 60, Reward: 105.0\n",
      "Seed: 3, Iteration: 70, Reward: 105.0\n",
      "Seed: 3, Iteration: 80, Reward: 105.0\n",
      "Seed: 3, Iteration: 90, Reward: 105.0\n",
      "Seed: 3, Iteration: 100, Reward: 105.0\n",
      "Seed: 3, Iteration: 110, Reward: 105.0\n",
      "Seed: 3, Iteration: 120, Reward: 105.0\n",
      "Seed: 3, Iteration: 130, Reward: 105.0\n",
      "Seed: 3, Iteration: 140, Reward: 105.0\n",
      "Seed: 5, Iteration: 0, Reward: 47.5\n",
      "Seed: 5, Iteration: 10, Reward: 61.0\n",
      "Seed: 5, Iteration: 20, Reward: 76.5\n",
      "Seed: 5, Iteration: 30, Reward: 82.0\n",
      "Seed: 5, Iteration: 40, Reward: 105.0\n",
      "Seed: 5, Iteration: 50, Reward: 105.0\n",
      "Seed: 5, Iteration: 60, Reward: 105.0\n",
      "Seed: 5, Iteration: 70, Reward: 105.0\n",
      "Seed: 5, Iteration: 80, Reward: 105.0\n",
      "Seed: 5, Iteration: 90, Reward: 105.0\n",
      "Seed: 5, Iteration: 100, Reward: 105.0\n",
      "Seed: 5, Iteration: 110, Reward: 105.0\n",
      "Seed: 5, Iteration: 120, Reward: 105.0\n",
      "Seed: 5, Iteration: 130, Reward: 105.0\n",
      "Seed: 5, Iteration: 140, Reward: 105.0\n",
      "Seed: 8, Iteration: 0, Reward: 51.0\n",
      "Seed: 8, Iteration: 10, Reward: 63.0\n",
      "Seed: 8, Iteration: 20, Reward: 105.0\n",
      "Seed: 8, Iteration: 30, Reward: 105.0\n",
      "Seed: 8, Iteration: 40, Reward: 105.0\n",
      "Seed: 8, Iteration: 50, Reward: 105.0\n",
      "Seed: 8, Iteration: 60, Reward: 105.0\n",
      "Seed: 8, Iteration: 70, Reward: 105.0\n",
      "Seed: 8, Iteration: 80, Reward: 105.0\n",
      "Seed: 8, Iteration: 90, Reward: 105.0\n",
      "Seed: 8, Iteration: 100, Reward: 105.0\n",
      "Seed: 8, Iteration: 110, Reward: 105.0\n",
      "Seed: 8, Iteration: 120, Reward: 105.0\n",
      "Seed: 8, Iteration: 130, Reward: 105.0\n",
      "Seed: 8, Iteration: 140, Reward: 105.0\n"
     ]
    }
   ],
   "execution_count": 90
  },
  {
   "metadata": {
    "ExecuteTime": {
     "end_time": "2025-01-26T21:05:59.020550Z",
     "start_time": "2025-01-26T21:05:57.286158Z"
    }
   },
   "cell_type": "code",
   "source": [
    "rewards_for_plot = [[reward for reward in rewards] for rewards in seed_rewards]\n",
    "rewards_for_plot = pd.DataFrame(rewards_for_plot).melt()\n",
    "rewards_for_plot.rename(columns={\"variable\": \"episode\", \"value\": \"reward\"}, inplace=True)\n",
    "sns.set(style=\"whitegrid\", palette=\"muted\")\n",
    "sns.lineplot(x=\"episode\", y=\"reward\", data=rewards_for_plot)\n",
    "plt.show()"
   ],
   "id": "68d448adefff8682",
   "outputs": [
    {
     "data": {
      "text/plain": [
       "<Figure size 640x480 with 1 Axes>"
      ],
      "image/png": "[encoded data removed]"
     },
     "metadata": {},
     "output_type": "display_data"
    }
   ],
   "execution_count": 93
  }
 ],
 "metadata": {
  "kernelspec": {
   "display_name": "Python 3 (ipykernel)",
   "language": "python",
   "name": "python3"
  },
  "language_info": {
   "codemirror_mode": {
    "name": "ipython",
    "version": 2
   },
   "file_extension": ".py",
   "mimetype": "text/x-python",
   "name": "python",
   "nbconvert_exporter": "python",
   "pygments_lexer": "ipython2",
   "version": "2.7.6"
  }
 },
 "nbformat": 4,
 "nbformat_minor": 5
}
