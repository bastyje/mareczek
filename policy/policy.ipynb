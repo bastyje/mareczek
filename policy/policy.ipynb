{
 "cells": [
  {
   "metadata": {},
   "cell_type": "markdown",
   "source": [
    "# Policy search\n",
    "Policy search RL algorithm for playing the game of Space Invaders."
   ],
   "id": "fcf4b5657b44c58f"
  },
  {
   "metadata": {
    "ExecuteTime": {
     "end_time": "2025-01-27T14:09:53.369439Z",
     "start_time": "2025-01-27T14:09:53.366996Z"
    }
   },
   "cell_type": "code",
   "source": [
    "import random\n",
    "\n",
    "import ale_py\n",
    "import gymnasium as gym\n",
    "\n",
    "gym.register_envs(ale_py)  # needed to run atari games"
   ],
   "id": "30e26dd39c8a9006",
   "outputs": [],
   "execution_count": 311
  },
  {
   "metadata": {
    "ExecuteTime": {
     "end_time": "2025-01-27T14:09:53.415624Z",
     "start_time": "2025-01-27T14:09:53.413160Z"
    }
   },
   "cell_type": "code",
   "source": [
    "import numpy as np\n",
    "import torch\n",
    "import torch.nn as nn\n",
    "import torch.optim as optim\n",
    "from torch.distributions.categorical import Categorical\n",
    "import matplotlib.pyplot as plt\n",
    "import pandas as pd\n",
    "import seaborn as sns"
   ],
   "id": "a5d95091f713a05a",
   "outputs": [],
   "execution_count": 312
  },
  {
   "metadata": {},
   "cell_type": "markdown",
   "source": [
    "## preprocess\n",
    "We need to crop the frame, downsample it, and convert it to grayscale."
   ],
   "id": "a862e59cee2c0f27"
  },
  {
   "metadata": {
    "ExecuteTime": {
     "end_time": "2025-01-27T14:09:53.461879Z",
     "start_time": "2025-01-27T14:09:53.459405Z"
    }
   },
   "cell_type": "code",
   "source": [
    "def preprocess_frame(frame):\n",
    "    frame = frame[34:194]\n",
    "    frame = frame[::2, ::2, 0]\n",
    "    frame[frame == 144] = 0\n",
    "    frame[frame == 109] = 0\n",
    "    frame[frame != 0] = 1\n",
    "    return np.expand_dims(frame.astype(np.float32), axis=0)\n",
    "\n",
    "def preprocess_batch(states):\n",
    "    return np.array([preprocess_frame(state) for state in states])"
   ],
   "id": "fc4b747ab227f820",
   "outputs": [],
   "execution_count": 313
  },
  {
   "metadata": {
    "ExecuteTime": {
     "end_time": "2025-01-27T14:09:53.505948Z",
     "start_time": "2025-01-27T14:09:53.502898Z"
    }
   },
   "cell_type": "code",
   "source": [
    "class PolicyNetwork(nn.Module):\n",
    "    def __init__(self, action_space):\n",
    "        super(PolicyNetwork, self).__init__()\n",
    "        self.conv = nn.Sequential(\n",
    "            nn.Conv2d(1, 16, kernel_size=8, stride=4),\n",
    "            nn.ReLU(),\n",
    "            nn.Conv2d(16, 32, kernel_size=4, stride=2),\n",
    "            nn.ReLU(),\n",
    "        )\n",
    "        self.fc = nn.Sequential(\n",
    "            nn.Flatten(),\n",
    "            nn.Linear(2048, 256),\n",
    "            nn.ReLU(),\n",
    "            nn.Linear(256, action_space)\n",
    "        )\n",
    "\n",
    "    def forward(self, x):\n",
    "        x = self.conv(x)\n",
    "        x = self.fc(x)\n",
    "        return nn.Softmax(dim=-1)(x)"
   ],
   "id": "a37dae4720d16362",
   "outputs": [],
   "execution_count": 314
  },
  {
   "metadata": {
    "ExecuteTime": {
     "end_time": "2025-01-27T14:09:53.552053Z",
     "start_time": "2025-01-27T14:09:53.549580Z"
    }
   },
   "cell_type": "code",
   "source": [
    "def compute_discounted_rewards(rewards, gamma, baseline=None):\n",
    "    discounted_rewards = np.zeros_like(rewards)\n",
    "    cumulative = 0\n",
    "    for t in reversed(range(len(rewards))):\n",
    "        cumulative = rewards[t] + gamma * cumulative\n",
    "        discounted_rewards[t] = cumulative\n",
    "\n",
    "    if baseline is not None:\n",
    "        discounted_rewards -= baseline\n",
    "    return discounted_rewards"
   ],
   "id": "248c0efb10505884",
   "outputs": [],
   "execution_count": 315
  },
  {
   "metadata": {
    "ExecuteTime": {
     "end_time": "2025-01-27T14:09:53.598944Z",
     "start_time": "2025-01-27T14:09:53.596467Z"
    }
   },
   "cell_type": "code",
   "source": [
    "def create_env(seed):\n",
    "    def _init():\n",
    "        env = gym.make('ALE/SpaceInvaders-v5', frameskip=3)\n",
    "        env.reset(seed=seed)\n",
    "        return env\n",
    "    return _init"
   ],
   "id": "732c8e295c3d3c76",
   "outputs": [],
   "execution_count": 316
  },
  {
   "metadata": {
    "ExecuteTime": {
     "end_time": "2025-01-27T14:09:53.651464Z",
     "start_time": "2025-01-27T14:09:53.646310Z"
    }
   },
   "cell_type": "code",
   "source": [
    "def play_one_step(env, state, model):\n",
    "    # get stochastic action\n",
    "    state = torch.tensor(state, dtype=torch.float32, device=device).unsqueeze(0)\n",
    "    action_probs = model(state)\n",
    "    dist = Categorical(action_probs)\n",
    "    action = dist.sample()\n",
    "    log_prob = dist.log_prob(action)\n",
    "\n",
    "    # take action\n",
    "    next_state, reward, done, truncated, info = env.step(action.item())\n",
    "    next_state = preprocess_frame(next_state)\n",
    "    return next_state, reward, done, truncated, log_prob\n",
    "\n",
    "\n",
    "def play_multiple_episodes(n_episodes, n_max_steps, model, seed, gamma):\n",
    "    envs = gym.vector.AsyncVectorEnv([create_env(seed + i) for i in range(n_episodes)])\n",
    "    all_rewards = [[] for _ in range(n_episodes)]\n",
    "    all_log_probs = [[] for _ in range(n_episodes)]\n",
    "    all_baselines = [[] for _ in range(n_episodes)]\n",
    "\n",
    "    states, _ = envs.reset()\n",
    "    states = preprocess_batch(states)\n",
    "\n",
    "    for step in range(n_max_steps):\n",
    "        state_tensors = torch.tensor(states, dtype=torch.float32, device=device)\n",
    "        action_probs = model(state_tensors)\n",
    "        dist = Categorical(action_probs)\n",
    "        actions = dist.sample()\n",
    "        log_probs = dist.log_prob(actions)\n",
    "\n",
    "        next_states, rewards, dones, truncations, infos = envs.step(actions.cpu().numpy())\n",
    "\n",
    "        for i in range(n_episodes):\n",
    "            all_rewards[i].append(rewards[i])\n",
    "            all_log_probs[i].append(log_probs[i])\n",
    "\n",
    "        states = preprocess_batch(next_states)\n",
    "        if any(dones) or any(truncations):\n",
    "            break\n",
    "\n",
    "    for i in range(n_episodes):\n",
    "        discounted = compute_discounted_rewards(all_rewards[i], gamma)\n",
    "        all_baselines[i] = np.mean(discounted)\n",
    "\n",
    "    envs.close()\n",
    "\n",
    "    return all_rewards, all_log_probs, all_baselines"
   ],
   "id": "b0a7a99d0c1aba18",
   "outputs": [],
   "execution_count": 317
  },
  {
   "metadata": {
    "ExecuteTime": {
     "end_time": "2025-01-27T14:09:53.695817Z",
     "start_time": "2025-01-27T14:09:53.693163Z"
    }
   },
   "cell_type": "code",
   "source": [
    "class Parameters:\n",
    "    def __init__(self):\n",
    "        self.n_iterations = 1000  # max episodes\n",
    "        self.n_episodes_per_update = 10  # batch size\n",
    "        self.n_max_steps = 1_000_000_000  # how many steps to perform during a game\n",
    "\n",
    "        self.discount_factor = 0.99  # gamma\n",
    "        self.learning_rate = 1e-2  # alfa\n",
    "\n",
    "        self.early_stopping_patience = 20\n",
    "        self.early_stopping_delta = 1e-3"
   ],
   "id": "6a8e15ee406587bc",
   "outputs": [],
   "execution_count": 318
  },
  {
   "metadata": {
    "ExecuteTime": {
     "end_time": "2025-01-27T14:09:53.826041Z",
     "start_time": "2025-01-27T14:09:53.739892Z"
    }
   },
   "cell_type": "code",
   "source": [
    "env = gym.make('ALE/SpaceInvaders-v5', frameskip=3)\n",
    "# env = gym.wrappers.RecordEpisodeStatistics(env, buffer_length=50) ??? nie dziala dziadostwo\n",
    "device = torch.device(\"cuda\" if torch.cuda.is_available() else \"cpu\")\n",
    "print(f\"Using device: {device}\")"
   ],
   "id": "7594ecac32f94791",
   "outputs": [
    {
     "name": "stdout",
     "output_type": "stream",
     "text": [
      "Using device: cuda\n"
     ]
    }
   ],
   "execution_count": 319
  },
  {
   "metadata": {
    "ExecuteTime": {
     "end_time": "2025-01-27T14:09:53.902842Z",
     "start_time": "2025-01-27T14:09:53.900339Z"
    }
   },
   "cell_type": "code",
   "source": [
    "n_iterations = 1000\n",
    "n_episodes_per_update = 12\n",
    "n_max_steps = 1_000_000_000\n",
    "discount_factor = 0.99  # gamma\n",
    "learning_rate = 5e-3  # alfa"
   ],
   "id": "968b4ff6eb0207e",
   "outputs": [],
   "execution_count": 320
  },
  {
   "metadata": {
    "jupyter": {
     "is_executing": true
    },
    "ExecuteTime": {
     "start_time": "2025-01-27T14:09:53.946515Z"
    }
   },
   "cell_type": "code",
   "source": [
    "seed_rewards = []\n",
    "early_stopping_patience = 20\n",
    "early_stopping_delta = 1e-3\n",
    "\n",
    "# Train the model for each seed\n",
    "for seed in [1, 2, 3, 5, 8]:\n",
    "    torch.manual_seed(seed)\n",
    "    random.seed(seed)\n",
    "    np.random.seed(seed)\n",
    "    episode_rewards = []\n",
    "    best_mean_reward = -np.inf\n",
    "    patience_counter = 0\n",
    "\n",
    "    policy = PolicyNetwork(env.action_space.n).to(device)\n",
    "    optimizer = optim.Adam(policy.parameters(), lr=learning_rate)\n",
    "\n",
    "    for iteration in range(n_iterations):\n",
    "        all_rewards, all_log_probs, all_baselines = play_multiple_episodes(\n",
    "            n_episodes_per_update, n_max_steps, policy, seed, gamma=discount_factor\n",
    "        )\n",
    "\n",
    "        all_final_rewards = [\n",
    "            compute_discounted_rewards(rewards, discount_factor, baseline=b)\n",
    "            for rewards, b in zip(all_rewards, all_baselines)\n",
    "        ]\n",
    "\n",
    "        policy_loss = 0\n",
    "        for log_probs, rewards in zip(all_log_probs, all_final_rewards):\n",
    "            log_probs_tensor = torch.stack(log_probs)\n",
    "            rewards_tensor = torch.tensor(rewards, dtype=torch.float32, device=device)\n",
    "            policy_loss += -torch.sum(log_probs_tensor * rewards_tensor)\n",
    "\n",
    "        policy_loss /= n_episodes_per_update\n",
    "\n",
    "        episode_rewards.append(np.mean([np.sum(rewards) for rewards in all_rewards]))\n",
    "        if iteration % 10 == 0:\n",
    "            print(f\"Seed: {seed}, Iteration: {iteration}, Reward: {episode_rewards[-1]}\")\n",
    "\n",
    "        optimizer.zero_grad()\n",
    "        policy_loss.backward()\n",
    "        optimizer.step()\n",
    "\n",
    "        # Early stopping\n",
    "        if iteration < 50:\n",
    "            continue\n",
    "        current_mean_reward = np.mean(episode_rewards[-50:])\n",
    "        if abs(current_mean_reward - best_mean_reward) > early_stopping_delta:\n",
    "            best_mean_reward = current_mean_reward\n",
    "            patience_counter = 0\n",
    "        else:\n",
    "            patience_counter += 1\n",
    "\n",
    "        if patience_counter == early_stopping_patience:\n",
    "            print(f\"Seed: {seed}, Early stopping at iteration {iteration}\")\n",
    "            break\n",
    "\n",
    "    seed_rewards.append(episode_rewards)"
   ],
   "id": "136ccc04e61b1ffb",
   "outputs": [
    {
     "name": "stdout",
     "output_type": "stream",
     "text": [
      "Seed: 1, Iteration: 0, Reward: 82.91666666666667\n",
      "Seed: 1, Iteration: 10, Reward: 270.0\n",
      "Seed: 1, Iteration: 20, Reward: 270.0\n",
      "Seed: 1, Iteration: 30, Reward: 270.0\n",
      "Seed: 1, Iteration: 40, Reward: 270.0\n",
      "Seed: 1, Iteration: 50, Reward: 270.0\n",
      "Seed: 1, Iteration: 60, Reward: 270.0\n",
      "Seed: 1, Iteration: 70, Reward: 270.0\n",
      "Seed: 1, Early stopping at iteration 77\n",
      "Seed: 2, Iteration: 0, Reward: 57.5\n",
      "Seed: 2, Iteration: 10, Reward: 185.0\n",
      "Seed: 2, Iteration: 20, Reward: 285.0\n",
      "Seed: 2, Iteration: 30, Reward: 285.0\n"
     ]
    }
   ],
   "execution_count": null
  },
  {
   "metadata": {},
   "cell_type": "code",
   "source": [
    "rewards_for_plot = [[reward for reward in rewards] for rewards in seed_rewards]\n",
    "rewards_for_plot = pd.DataFrame(rewards_for_plot).melt()\n",
    "rewards_for_plot.rename(columns={\"variable\": \"episode\", \"value\": \"reward\"}, inplace=True)\n",
    "sns.set(style=\"whitegrid\", palette=\"muted\")\n",
    "sns.lineplot(x=\"episode\", y=\"reward\", data=rewards_for_plot)\n",
    "plt.show()"
   ],
   "id": "68d448adefff8682",
   "outputs": [],
   "execution_count": null
  }
 ],
 "metadata": {
  "kernelspec": {
   "display_name": "Python 3 (ipykernel)",
   "language": "python",
   "name": "python3"
  },
  "language_info": {
   "codemirror_mode": {
    "name": "ipython",
    "version": 2
   },
   "file_extension": ".py",
   "mimetype": "text/x-python",
   "name": "python",
   "nbconvert_exporter": "python",
   "pygments_lexer": "ipython2",
   "version": "2.7.6"
  }
 },
 "nbformat": 4,
 "nbformat_minor": 5
}
